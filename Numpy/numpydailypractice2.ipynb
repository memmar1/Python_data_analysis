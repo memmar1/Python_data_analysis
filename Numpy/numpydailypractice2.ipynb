{
 "cells": [
  {
   "cell_type": "code",
   "execution_count": 2,
   "id": "0db6d0c5-e08a-4980-8652-dbe1a77f5128",
   "metadata": {},
   "outputs": [],
   "source": [
    "import numpy as np"
   ]
  },
  {
   "cell_type": "markdown",
   "id": "53553107-eac9-4185-88d8-3b0ac0a91c07",
   "metadata": {},
   "source": [
    "16. How to add a border (filled with 0's) around an existing array?"
   ]
  },
  {
   "cell_type": "code",
   "execution_count": 12,
   "id": "e10fc02c-68de-47a0-9da2-d99e8a8e1379",
   "metadata": {},
   "outputs": [
    {
     "name": "stdout",
     "output_type": "stream",
     "text": [
      "[[1 1 1]\n",
      " [1 1 1]\n",
      " [1 1 1]]\n",
      "[[0 0 0 0 0]\n",
      " [0 1 1 1 0]\n",
      " [0 1 1 1 0]\n",
      " [0 1 1 1 0]\n",
      " [0 0 0 0 0]]\n"
     ]
    }
   ],
   "source": [
    "x = np.ones((3,3), dtype= int)\n",
    "print(x)\n",
    "x = np.pad(x, pad_width = 1, mode = \"constant\", constant_values = 0)\n",
    "print(x)"
   ]
  },
  {
   "cell_type": "markdown",
   "id": "5ffc5423-ba2c-4608-911e-56fdd4759b57",
   "metadata": {},
   "source": [
    "17. What is the result of the following expression?\n",
    "0 * np.nan\n",
    "np.nan == np.nan\n",
    "np.inf > np.nan\n",
    "np.nan - np.nan\n",
    "np.nan in set([np.nan])\n",
    "0.3 == 3 * 0.1"
   ]
  },
  {
   "cell_type": "markdown",
   "id": "1d75e6b7-5942-4b2b-ad86-2f5f911889b2",
   "metadata": {},
   "source": [
    "nan\n",
    "False\n",
    "False\n",
    "False\n",
    "True\n",
    "False"
   ]
  },
  {
   "cell_type": "markdown",
   "id": "1a09f9e3-b054-4c67-885f-72c7f46655bc",
   "metadata": {},
   "source": [
    "18. Create a 5x5 matrix with values 1,2,3,4 just below the diagonal"
   ]
  },
  {
   "cell_type": "code",
   "execution_count": 25,
   "id": "3ed0b1d4-90cc-4bef-a84b-c52226b1a482",
   "metadata": {},
   "outputs": [
    {
     "data": {
      "text/plain": [
       "array([[0, 0, 0, 0, 0],\n",
       "       [1, 0, 0, 0, 0],\n",
       "       [0, 2, 0, 0, 0],\n",
       "       [0, 0, 3, 0, 0],\n",
       "       [0, 0, 0, 4, 0]])"
      ]
     },
     "execution_count": 25,
     "metadata": {},
     "output_type": "execute_result"
    }
   ],
   "source": [
    "x = np.diag(1+np.arange(4), k= -1)\n",
    "x"
   ]
  },
  {
   "cell_type": "markdown",
   "id": "fbb484b1-3608-442f-912f-67219b3f0f16",
   "metadata": {},
   "source": [
    "19. Create a 8x8 matrix and fill it with a checkerboard pattern"
   ]
  },
  {
   "cell_type": "code",
   "execution_count": 26,
   "id": "844a35fd-1840-4bc3-abe0-6f32e894a996",
   "metadata": {},
   "outputs": [
    {
     "data": {
      "text/plain": [
       "array([[0, 1, 0, 1, 0, 1, 0, 1],\n",
       "       [1, 0, 1, 0, 1, 0, 1, 0],\n",
       "       [0, 1, 0, 1, 0, 1, 0, 1],\n",
       "       [1, 0, 1, 0, 1, 0, 1, 0],\n",
       "       [0, 1, 0, 1, 0, 1, 0, 1],\n",
       "       [1, 0, 1, 0, 1, 0, 1, 0],\n",
       "       [0, 1, 0, 1, 0, 1, 0, 1],\n",
       "       [1, 0, 1, 0, 1, 0, 1, 0]])"
      ]
     },
     "execution_count": 26,
     "metadata": {},
     "output_type": "execute_result"
    }
   ],
   "source": [
    "x = np.zeros ((8,8), dtype=int)\n",
    "x[1::2, ::2]= 1\n",
    "x[::2, 1::2] = 1\n",
    "x"
   ]
  },
  {
   "cell_type": "markdown",
   "id": "d02ece95-c5f6-4ba0-a256-b1e0cbc92b72",
   "metadata": {},
   "source": [
    "20. Consider a (6,7,8) shape array, what is the index (x,y,z) of the 100th element?"
   ]
  },
  {
   "cell_type": "markdown",
   "id": "a4829933-3785-4e75-b420-48c3dd447452",
   "metadata": {},
   "source": [
    "print (np.unravel_index(100, (6,7,8)))"
   ]
  },
  {
   "cell_type": "markdown",
   "id": "e79fa6db-b82f-43b9-8d11-bc6c0a7fdbec",
   "metadata": {},
   "source": [
    "21. Create a checkerboard 8x8 matrix using the tile function"
   ]
  },
  {
   "cell_type": "code",
   "execution_count": 8,
   "id": "a13eb2c8-505b-4216-bf71-6afe1a634a36",
   "metadata": {},
   "outputs": [
    {
     "name": "stdout",
     "output_type": "stream",
     "text": [
      "[[1 0]\n",
      " [1 0]]\n"
     ]
    },
    {
     "data": {
      "text/plain": [
       "array([[1, 0, 1, 0, 1, 0, 1, 0],\n",
       "       [1, 0, 1, 0, 1, 0, 1, 0],\n",
       "       [1, 0, 1, 0, 1, 0, 1, 0],\n",
       "       [1, 0, 1, 0, 1, 0, 1, 0],\n",
       "       [1, 0, 1, 0, 1, 0, 1, 0],\n",
       "       [1, 0, 1, 0, 1, 0, 1, 0],\n",
       "       [1, 0, 1, 0, 1, 0, 1, 0],\n",
       "       [1, 0, 1, 0, 1, 0, 1, 0]])"
      ]
     },
     "execution_count": 8,
     "metadata": {},
     "output_type": "execute_result"
    }
   ],
   "source": [
    "x = np.array([[1,0],[1,0]])\n",
    "print(x)\n",
    "y = np.tile(array,(4,4))\n",
    "y"
   ]
  },
  {
   "cell_type": "markdown",
   "id": "005a8768-3fc3-41bd-affd-c86c2996f4e8",
   "metadata": {},
   "source": [
    "22. Normalize a 5x5 random matrix"
   ]
  },
  {
   "cell_type": "code",
   "execution_count": 20,
   "id": "b4a156fd-4e4f-49f6-8643-9efcd2da168a",
   "metadata": {},
   "outputs": [
    {
     "name": "stdout",
     "output_type": "stream",
     "text": [
      "[[5 0 3 3 7]\n",
      " [9 3 5 2 4]\n",
      " [7 6 8 8 1]\n",
      " [6 7 7 8 1]\n",
      " [5 9 8 9 4]]\n",
      "[[ 0.44444444  1.          0.66666667  0.66666667  0.22222222]\n",
      " [-0.          0.66666667  0.44444444  0.77777778  0.55555556]\n",
      " [ 0.22222222  0.33333333  0.11111111  0.11111111  0.88888889]\n",
      " [ 0.33333333  0.22222222  0.22222222  0.11111111  0.88888889]\n",
      " [ 0.44444444 -0.          0.11111111 -0.          0.55555556]]\n"
     ]
    }
   ],
   "source": [
    "np.random.seed(0)\n",
    "x = np.random.randint(10, size = (5,5))\n",
    "print(x)\n",
    "maxmin = x.max(),x.min()\n",
    "maxmin\n",
    "x= (x-xmin)/(xmax-xmin)\n",
    "print(x)"
   ]
  },
  {
   "cell_type": "markdown",
   "id": "582547f6-5821-4e40-a54b-8b483a729f04",
   "metadata": {},
   "source": [
    "23. Create a custom dtype that describes a color as four unsigned bytes (RGBA) "
   ]
  },
  {
   "cell_type": "code",
   "execution_count": 27,
   "id": "d68b6439-c4a4-47f6-b529-bd3225637e1d",
   "metadata": {},
   "outputs": [
    {
     "name": "stderr",
     "output_type": "stream",
     "text": [
      "C:\\Users\\Dell\\AppData\\Local\\Temp\\ipykernel_12264\\2911720781.py:1: FutureWarning: Passing (type, 1) or '1type' as a synonym of type is deprecated; in a future version of numpy, it will be understood as (type, (1,)) / '(1,)type'.\n",
      "  color = np.dtype([(\"r\", np.ubyte, 1),\n"
     ]
    }
   ],
   "source": [
    "color = np.dtype([(\"r\", np.ubyte, 1),\n",
    "                  (\"g\", np.ubyte, 1),\n",
    "                  (\"b\", np.ubyte, 1),\n",
    "                  (\"a\", np.ubyte, 1)])"
   ]
  },
  {
   "cell_type": "markdown",
   "id": "a9027bef-e2c2-4ff5-852e-bc358f07c369",
   "metadata": {},
   "source": [
    "24. Multiply a 5x3 matrix by a 3x2 matrix (real matrix product)"
   ]
  },
  {
   "cell_type": "code",
   "execution_count": 25,
   "id": "6051352d-78ee-4171-b7ae-16bda6a8904a",
   "metadata": {},
   "outputs": [
    {
     "name": "stdout",
     "output_type": "stream",
     "text": [
      "[[3. 3.]\n",
      " [3. 3.]\n",
      " [3. 3.]\n",
      " [3. 3.]\n",
      " [3. 3.]]\n"
     ]
    }
   ],
   "source": [
    "y= np.dot(np.ones((5,3)), np.ones((3,2)))\n",
    "print (y)"
   ]
  },
  {
   "cell_type": "markdown",
   "id": "672cb440-ab99-484f-8d40-464a37fa47c8",
   "metadata": {},
   "source": [
    "25. Given a 1D array, negate all elements which are between 3 and 8, in place. "
   ]
  },
  {
   "cell_type": "code",
   "execution_count": 29,
   "id": "b6dcdd41-c7b0-4400-be4a-420c97d72c85",
   "metadata": {},
   "outputs": [
    {
     "name": "stdout",
     "output_type": "stream",
     "text": [
      "[ 0  1  2  3 -4 -5 -6 -7 -8  9 10]\n"
     ]
    }
   ],
   "source": [
    "Z = np.arange(11)\n",
    "Z[(3 < Z) & (Z <= 8)] *= -1\n",
    "print(Z)"
   ]
  },
  {
   "cell_type": "markdown",
   "id": "df6b0752-17d7-41a1-8594-57ab28b9f6cf",
   "metadata": {},
   "source": [
    "26. What is the output of the following script?\n",
    "print(sum(range(5),-1))\n",
    "from numpy import *\n",
    "print(sum(range(5),-1))"
   ]
  },
  {
   "cell_type": "markdown",
   "id": "ffd8de24-4ea5-4075-bf06-fa4c41e4373b",
   "metadata": {},
   "source": [
    "9\n",
    "10"
   ]
  },
  {
   "cell_type": "markdown",
   "id": "496a05ee-d0db-4499-9ed7-852fc4f08bbf",
   "metadata": {},
   "source": [
    "27. Consider an integer vector Z, which of these expressions are legal?\n",
    "Z**Z         legal\r\n",
    "2 << Z >>   legal2\r\n",
    "Z <-       legal Z\r\n",
    "1         legalj*Z\r\n",
    "Z        legal/1/1\r\n",
    "        ilegalZ<Z>Z"
   ]
  },
  {
   "cell_type": "code",
   "execution_count": 43,
   "id": "f4f41414-56f9-46be-a012-ad73d515fbe8",
   "metadata": {},
   "outputs": [
    {
     "data": {
      "text/plain": [
       "array([[3, 3, 2],\n",
       "       [4, 2, 0],\n",
       "       [0, 4, 0]])"
      ]
     },
     "execution_count": 43,
     "metadata": {},
     "output_type": "execute_result"
    }
   ],
   "source": [
    "Z = np.random.randint(5,size=(3,3))\n",
    "Z"
   ]
  },
  {
   "cell_type": "code",
   "execution_count": 49,
   "id": "e3855562-5740-4578-84af-b724af1f15a8",
   "metadata": {},
   "outputs": [
    {
     "data": {
      "text/plain": [
       "array([[ 27,  27,   4],\n",
       "       [256,   4,   1],\n",
       "       [  1, 256,   1]])"
      ]
     },
     "execution_count": 49,
     "metadata": {},
     "output_type": "execute_result"
    }
   ],
   "source": [
    "Z**Z"
   ]
  },
  {
   "cell_type": "markdown",
   "id": "799889b9-f626-44a8-8041-4ba54dc10370",
   "metadata": {},
   "source": [
    "28. What are the result of the following expressions?\n",
    "np.array(0) / np.array(0)      = nan\r\n",
    "np.array(0) // np.array(0     = 0)\r\n",
    "np.array([np.nan]).astype(int).astype(floa  = array([-2.14748365e+09])t)"
   ]
  },
  {
   "cell_type": "code",
   "execution_count": 51,
   "id": "593ac57b-aa57-47bd-a1ac-094b014d0d72",
   "metadata": {},
   "outputs": [
    {
     "data": {
      "text/plain": [
       "array(0)"
      ]
     },
     "execution_count": 51,
     "metadata": {},
     "output_type": "execute_result"
    }
   ],
   "source": [
    "xy = np.array(0)\n",
    "xy"
   ]
  },
  {
   "cell_type": "code",
   "execution_count": 55,
   "id": "a0159512-ecb4-476c-a404-972ded85f9b5",
   "metadata": {},
   "outputs": [
    {
     "name": "stderr",
     "output_type": "stream",
     "text": [
      "C:\\Users\\Dell\\AppData\\Local\\Temp\\ipykernel_12264\\4266615255.py:1: RuntimeWarning: divide by zero encountered in floor_divide\n",
      "  xy//xy\n"
     ]
    },
    {
     "data": {
      "text/plain": [
       "0"
      ]
     },
     "execution_count": 55,
     "metadata": {},
     "output_type": "execute_result"
    }
   ],
   "source": [
    "xy//xy"
   ]
  },
  {
   "cell_type": "markdown",
   "id": "0b33281b-4f55-40f9-9e32-1b6b33d26176",
   "metadata": {},
   "source": [
    "29. How to round away from zero a float array ?"
   ]
  },
  {
   "cell_type": "code",
   "execution_count": 57,
   "id": "f9b920f9-da55-4260-b5c6-958a46bf4202",
   "metadata": {},
   "outputs": [
    {
     "name": "stdout",
     "output_type": "stream",
     "text": [
      "[-7.42147405 -3.69143298 -2.72578458  1.40393541 -1.22796973  9.76747676\n",
      " -7.95910379 -5.82246488 -6.77380964  3.06216651]\n",
      "[-8. -4. -3.  2. -2. 10. -8. -6. -7.  4.]\n"
     ]
    }
   ],
   "source": [
    "Z = np.random.uniform(-10,+10,10)\n",
    "print(Z)\n",
    "print (np.copysign(np.ceil(np.abs(Z)), Z))"
   ]
  },
  {
   "cell_type": "markdown",
   "id": "87b613da-e13e-4cc5-9ca5-cf40db12501c",
   "metadata": {},
   "source": [
    "30. How to find common values between two arrays?"
   ]
  },
  {
   "cell_type": "code",
   "execution_count": 67,
   "id": "61caf3ff-2442-43a2-82b6-8766ae7fb2d5",
   "metadata": {},
   "outputs": [
    {
     "name": "stdout",
     "output_type": "stream",
     "text": [
      "[ 5  0  3 11  3  7  9  3]\n",
      "[5 2 4 7 6 8 8 1 6 7]\n",
      "[5 7]\n"
     ]
    }
   ],
   "source": [
    "np.random.seed(0)\n",
    "Z1 = np.random.randint(0,12,8)\n",
    "Z2 = np.random.randint(0,10,10)\n",
    "print(Z1)\n",
    "print(Z2)\n",
    "print(np.intersect1d(Z1,Z2))"
   ]
  },
  {
   "cell_type": "code",
   "execution_count": null,
   "id": "25a02dc4-5b5c-4052-9ff5-e518180073b1",
   "metadata": {},
   "outputs": [],
   "source": []
  },
  {
   "cell_type": "code",
   "execution_count": null,
   "id": "fb23522d-2b60-402f-be82-6e23a5a284de",
   "metadata": {},
   "outputs": [],
   "source": []
  }
 ],
 "metadata": {
  "kernelspec": {
   "display_name": "Python 3 (ipykernel)",
   "language": "python",
   "name": "python3"
  },
  "language_info": {
   "codemirror_mode": {
    "name": "ipython",
    "version": 3
   },
   "file_extension": ".py",
   "mimetype": "text/x-python",
   "name": "python",
   "nbconvert_exporter": "python",
   "pygments_lexer": "ipython3",
   "version": "3.12.2"
  }
 },
 "nbformat": 4,
 "nbformat_minor": 5
}
