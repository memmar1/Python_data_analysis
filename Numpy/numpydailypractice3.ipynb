{
 "cells": [
  {
   "cell_type": "code",
   "execution_count": 1,
   "id": "49bb0e8e-37ef-407e-967c-fe7583a7939c",
   "metadata": {},
   "outputs": [],
   "source": [
    "import numpy as np"
   ]
  },
  {
   "cell_type": "markdown",
   "id": "73aded0c-e212-4027-82b2-c57d38e49836",
   "metadata": {},
   "source": [
    "31. How to ignore all numpy warnings (not recommended)"
   ]
  },
  {
   "cell_type": "markdown",
   "id": "8544cd8f-93af-43b0-9e89-d355c3e8c6f4",
   "metadata": {},
   "source": [
    "warnings.filterwarnings('ignore')"
   ]
  },
  {
   "cell_type": "markdown",
   "id": "65231174-a4c1-4028-826f-dcb8aee88155",
   "metadata": {},
   "source": [
    "32. Is the following expressions true?\n",
    "np.sqrt(-1) == np.emath.sqrt(-1)\n",
    "its False"
   ]
  },
  {
   "cell_type": "markdown",
   "id": "fdbc4015-98fb-4078-bf28-865bd33797f6",
   "metadata": {},
   "source": [
    "33. How to get the dates of yesterday, today and tomorrow?"
   ]
  },
  {
   "cell_type": "code",
   "execution_count": 16,
   "id": "0a5ddb6c-5a6c-4985-b675-7a112b0506ba",
   "metadata": {},
   "outputs": [],
   "source": [
    "today = np.datetime64(\"today\", \"D\")\n",
    "yesterday = np.datetime64(\"today\", \"D\") - np.timedelta64(1, \"D\")\n",
    "tomorrow =np.datetime64(\"today\", \"D\") + np.timedelta64(1, \"D\")"
   ]
  },
  {
   "cell_type": "code",
   "execution_count": 17,
   "id": "9d786858-b855-4477-9afd-95d4a67c646e",
   "metadata": {},
   "outputs": [
    {
     "name": "stdout",
     "output_type": "stream",
     "text": [
      "2024-02-24\n",
      "2024-02-23\n",
      "2024-02-25\n"
     ]
    }
   ],
   "source": [
    "print(today)\n",
    "print(yesterday)\n",
    "print(tomorrow)"
   ]
  },
  {
   "cell_type": "markdown",
   "id": "7494af81-2bad-485c-9b4b-3b4592d1d60c",
   "metadata": {},
   "source": [
    "34. How to get all the dates corresponding to the month of July 2016? "
   ]
  },
  {
   "cell_type": "code",
   "execution_count": 18,
   "id": "e20e599c-9db5-4993-8a0c-fe4d9a8b2bb1",
   "metadata": {},
   "outputs": [
    {
     "name": "stdout",
     "output_type": "stream",
     "text": [
      "['2016-07-01' '2016-07-02' '2016-07-03' '2016-07-04' '2016-07-05'\n",
      " '2016-07-06' '2016-07-07' '2016-07-08' '2016-07-09' '2016-07-10'\n",
      " '2016-07-11' '2016-07-12' '2016-07-13' '2016-07-14' '2016-07-15'\n",
      " '2016-07-16' '2016-07-17' '2016-07-18' '2016-07-19' '2016-07-20'\n",
      " '2016-07-21' '2016-07-22' '2016-07-23' '2016-07-24' '2016-07-25'\n",
      " '2016-07-26' '2016-07-27' '2016-07-28' '2016-07-29' '2016-07-30'\n",
      " '2016-07-31']\n"
     ]
    }
   ],
   "source": [
    "july_dates = np.arange(\"2016-07\",\"2016-08\", dtype = \"datetime64[D]\")\n",
    "print(july_dates)"
   ]
  },
  {
   "cell_type": "markdown",
   "id": "2fbefdad-17ce-44bd-8f35-1c5af7750a5d",
   "metadata": {},
   "source": [
    "35. How to compute ((A+B)*(-A/2)) in place (without copy)?"
   ]
  },
  {
   "cell_type": "code",
   "execution_count": 30,
   "id": "ffb8dc7f-f7cd-4e9c-b410-3944f49f96a8",
   "metadata": {},
   "outputs": [
    {
     "name": "stdout",
     "output_type": "stream",
     "text": [
      "[-1.5 -1.5 -1.5]\n"
     ]
    }
   ],
   "source": [
    "A = np.ones(3, dtype = int)*1\n",
    "B = np.ones(3, dtype = int)*2\n",
    "C = ((A+B)*(-A/2))\n",
    "print(C)\n"
   ]
  },
  {
   "cell_type": "markdown",
   "id": "528f6f91-1272-4b66-ac56-bf73f0ea3f4f",
   "metadata": {},
   "source": [
    "36. Extract the integer part of a random array of positive numbers using 4 different methods"
   ]
  },
  {
   "cell_type": "code",
   "execution_count": 37,
   "id": "9b2be5f8-337b-4ed0-9f49-6d58472edb34",
   "metadata": {},
   "outputs": [
    {
     "name": "stdout",
     "output_type": "stream",
     "text": [
      "[5.48813504 7.15189366 6.02763376 5.44883183 4.23654799 6.45894113\n",
      " 4.37587211 8.91773001 9.63662761 3.83441519]\n",
      "[5. 7. 6. 5. 4. 6. 4. 8. 9. 3.]\n",
      "[5. 7. 6. 5. 4. 6. 4. 8. 9. 3.]\n",
      "[5 7 6 5 4 6 4 8 9 3]\n",
      "[5. 7. 6. 5. 4. 6. 4. 8. 9. 3.]\n"
     ]
    }
   ],
   "source": [
    "np.random.seed(0)\n",
    "Z = np.random.uniform(0,10,10)\n",
    "print(Z)\n",
    "\n",
    "print (np.floor(Z))\n",
    "print (np.ceil(Z)-1)\n",
    "print (Z.astype(int))\n",
    "print (np.trunc(Z))"
   ]
  },
  {
   "cell_type": "markdown",
   "id": "32fc0c03-a1f6-4473-82dd-8ecdfcbce3a4",
   "metadata": {},
   "source": [
    "37. Create a 5x5 matrix with row values ranging from 0 to 4"
   ]
  },
  {
   "cell_type": "code",
   "execution_count": 40,
   "id": "650682ef-c13f-4345-aca1-695b34082783",
   "metadata": {},
   "outputs": [
    {
     "data": {
      "text/plain": [
       "array([[0, 1, 2, 3, 4],\n",
       "       [0, 1, 2, 3, 4],\n",
       "       [0, 1, 2, 3, 4],\n",
       "       [0, 1, 2, 3, 4],\n",
       "       [0, 1, 2, 3, 4]])"
      ]
     },
     "execution_count": 40,
     "metadata": {},
     "output_type": "execute_result"
    }
   ],
   "source": [
    "x = np.zeros((5,5), dtype = int)\n",
    "x += np.arange(5)\n",
    "x"
   ]
  },
  {
   "cell_type": "markdown",
   "id": "bb99a550-bd9f-4826-89a0-bcf1512003dc",
   "metadata": {},
   "source": [
    "38. Consider a generator function that generates 10 integers and use it to build an array"
   ]
  },
  {
   "cell_type": "code",
   "execution_count": 50,
   "id": "795bb380-8246-41ef-9057-84322175a71c",
   "metadata": {},
   "outputs": [
    {
     "name": "stdout",
     "output_type": "stream",
     "text": [
      "[0 1 2 3 4 5 6 7 8 9]\n"
     ]
    }
   ],
   "source": [
    "def generator():\n",
    "    for i in range (10):\n",
    "        yield i \n",
    "x = np.fromiter(generator(), dtype = int, count=-1)\n",
    "print(x)"
   ]
  },
  {
   "cell_type": "markdown",
   "id": "cf5e9723-c8ca-45f6-afd7-85d62a91ca7c",
   "metadata": {},
   "source": [
    "39. Create a vector of size 10 with values ranging from 0 to 1, both excluded"
   ]
  },
  {
   "cell_type": "code",
   "execution_count": 86,
   "id": "5ff86920-93e0-43e3-b220-b08c9af4c6f9",
   "metadata": {},
   "outputs": [
    {
     "data": {
      "text/plain": [
       "array([0.9292962 , 0.31856895, 0.66741038, 0.13179786, 0.7163272 ,\n",
       "       0.28940609, 0.18319136, 0.58651293, 0.02010755, 0.82894003])"
      ]
     },
     "execution_count": 86,
     "metadata": {},
     "output_type": "execute_result"
    }
   ],
   "source": [
    "y = np.random.random(10)\n",
    "y"
   ]
  },
  {
   "cell_type": "code",
   "execution_count": 83,
   "id": "b14d62d6-1e53-4de2-aac3-a37b6cf85bf8",
   "metadata": {},
   "outputs": [
    {
     "data": {
      "text/plain": [
       "array([0.09090909, 0.18181818, 0.27272727, 0.36363636, 0.45454545,\n",
       "       0.54545455, 0.63636364, 0.72727273, 0.81818182, 0.90909091])"
      ]
     },
     "execution_count": 83,
     "metadata": {},
     "output_type": "execute_result"
    }
   ],
   "source": [
    "x = np.linspace(0,1,12)[1:-1]\n",
    "x"
   ]
  },
  {
   "cell_type": "markdown",
   "id": "33345ea0-1cf6-4793-85bb-e37963d18dad",
   "metadata": {},
   "source": [
    "40. Create a random vector of size 10 and sort it"
   ]
  },
  {
   "cell_type": "code",
   "execution_count": 84,
   "id": "14dd4c6f-e86d-4a54-8d03-1a9ca30b3f74",
   "metadata": {},
   "outputs": [
    {
     "name": "stdout",
     "output_type": "stream",
     "text": [
      "[ 7 21  9  0 10 18 11 26 23 27]\n",
      "[ 0  7  9 10 11 18 21 23 26 27]\n"
     ]
    }
   ],
   "source": [
    "y = np.random.randint(30, size = (10))\n",
    "print (y)\n",
    "y.sort()\n",
    "print(y)"
   ]
  },
  {
   "cell_type": "markdown",
   "id": "e3271f75-6753-456f-a765-6e8815a65a36",
   "metadata": {},
   "source": [
    "41. How to sum a small array faster than np.sum?"
   ]
  },
  {
   "cell_type": "code",
   "execution_count": 76,
   "id": "36423363-2332-46b5-86f8-852f2c363ad7",
   "metadata": {},
   "outputs": [
    {
     "name": "stdout",
     "output_type": "stream",
     "text": [
      "[0 1 2 3 4 5 6 7 8 9]\n"
     ]
    },
    {
     "data": {
      "text/plain": [
       "45"
      ]
     },
     "execution_count": 76,
     "metadata": {},
     "output_type": "execute_result"
    }
   ],
   "source": [
    "Z = np.arange(10)\n",
    "print(Z)\n",
    "np.add.reduce(Z)"
   ]
  },
  {
   "cell_type": "code",
   "execution_count": 78,
   "id": "21112259-d3a6-4d9c-a2b1-c0283b454a58",
   "metadata": {},
   "outputs": [
    {
     "data": {
      "text/plain": [
       "45"
      ]
     },
     "execution_count": 78,
     "metadata": {},
     "output_type": "execute_result"
    }
   ],
   "source": [
    "np.sum(Z)"
   ]
  },
  {
   "cell_type": "markdown",
   "id": "cf053b34-7b1b-4103-b3fd-ca587bf69800",
   "metadata": {},
   "source": [
    "42. Consider two random array A and B, check if they are equal"
   ]
  },
  {
   "cell_type": "code",
   "execution_count": 89,
   "id": "1f73fbbe-1653-42ea-a79c-348ef781222b",
   "metadata": {},
   "outputs": [
    {
     "name": "stdout",
     "output_type": "stream",
     "text": [
      "[4 5 6 1 5 4 6 4]\n",
      "[5 6 2 6 4 1 1 1]\n",
      "False\n"
     ]
    }
   ],
   "source": [
    "A = np.random.randint(1,7,8)\n",
    "B = np.random.randint(1,7,8)\n",
    "print(A)\n",
    "print(B)\n",
    "equal = np.array_equal(A,B)\n",
    "print(equal)"
   ]
  },
  {
   "cell_type": "markdown",
   "id": "9efdd82d-b3d7-49cc-9c49-8a711a17ecc3",
   "metadata": {},
   "source": [
    "43. Make an array immutable (read-only) "
   ]
  },
  {
   "cell_type": "code",
   "execution_count": 93,
   "id": "0f1610f2-b7b4-4e95-aa6e-f7adcb7c9ec4",
   "metadata": {},
   "outputs": [
    {
     "name": "stdout",
     "output_type": "stream",
     "text": [
      "[0. 0. 0. 0. 0. 0. 0. 0. 0. 0.]\n"
     ]
    }
   ],
   "source": [
    "Z = np.zeros(10)\n",
    "Z.flags.writeable = False\n",
    "print(Z)\n",
    "#Z[0] = 1    you can not change the elements"
   ]
  },
  {
   "cell_type": "markdown",
   "id": "dbcaafc7-8c6a-4dc6-94f5-4c1f400588c5",
   "metadata": {},
   "source": [
    "44. Consider a random 10x2 matrix representing cartesian coordinates, convert them to polar coordinates"
   ]
  },
  {
   "cell_type": "code",
   "execution_count": 94,
   "id": "19eb91ff-4f70-4cd5-b28f-04a0514e6f5e",
   "metadata": {},
   "outputs": [
    {
     "name": "stdout",
     "output_type": "stream",
     "text": [
      "[1.01495527 0.88399863 0.58090824 0.73406117 0.66822409 0.77181705\n",
      " 0.84160485 0.88445414 0.36589886 0.55283979]\n",
      "[1.25707224 0.84238424 0.40808171 1.00282353 0.78038728 0.38238445\n",
      " 1.0977141  0.11656531 1.3155772  0.06086006]\n"
     ]
    }
   ],
   "source": [
    "Z = np.random.random((10,2))\n",
    "X,Y = Z[:,0], Z[:,1]\n",
    "R = np.sqrt(X**2+Y**2)\n",
    "T = np.arctan2(Y,X)\n",
    "print(R)\n",
    "print(T)"
   ]
  },
  {
   "cell_type": "markdown",
   "id": "ae9f39c6-e8bd-4424-91f7-5ba6b1e90593",
   "metadata": {},
   "source": [
    "45. Create random vector of size 10 and replace the maximum value by 0"
   ]
  },
  {
   "cell_type": "code",
   "execution_count": 96,
   "id": "a0b9e285-c177-4fb7-90b5-c72289bc8176",
   "metadata": {},
   "outputs": [
    {
     "name": "stdout",
     "output_type": "stream",
     "text": [
      "[21 11 23 12  6 29 16  9  3 28]\n",
      "[21 11 23 12  6  0 16  9  3 28]\n"
     ]
    }
   ],
   "source": [
    "Z = np.random.randint(1,30,10)\n",
    "print(Z)\n",
    "Z[Z.argmax()] = 0\n",
    "print(Z)"
   ]
  },
  {
   "cell_type": "code",
   "execution_count": null,
   "id": "cb50983c-a980-44ce-a598-92d07cbcde9b",
   "metadata": {},
   "outputs": [],
   "source": []
  }
 ],
 "metadata": {
  "kernelspec": {
   "display_name": "Python 3 (ipykernel)",
   "language": "python",
   "name": "python3"
  },
  "language_info": {
   "codemirror_mode": {
    "name": "ipython",
    "version": 3
   },
   "file_extension": ".py",
   "mimetype": "text/x-python",
   "name": "python",
   "nbconvert_exporter": "python",
   "pygments_lexer": "ipython3",
   "version": "3.12.2"
  }
 },
 "nbformat": 4,
 "nbformat_minor": 5
}
