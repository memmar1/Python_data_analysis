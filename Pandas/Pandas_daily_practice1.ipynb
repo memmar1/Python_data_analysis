{
 "cells": [
  {
   "cell_type": "markdown",
   "id": "f6d05b01-347a-40ca-a296-dd52c33a1290",
   "metadata": {},
   "source": [
    "Step 1. Import the necessary libraries"
   ]
  },
  {
   "cell_type": "code",
   "execution_count": 1,
   "id": "3f6b6e9f-f3c8-4773-95a7-6dde65a4a049",
   "metadata": {},
   "outputs": [],
   "source": [
    "import pandas as pd"
   ]
  },
  {
   "cell_type": "markdown",
   "id": "61f1fa4a-a9ff-42ac-9339-d4889facc803",
   "metadata": {},
   "source": [
    "Step 2. Create a data dictionary that looks like the DataFrame below\n",
    "\tevolution\thp\tname\t    pokedex\t  type\n",
    "0\tIvysaur    \t45\tBulbasaur\tyes\t      grass\n",
    "1\tCharmeleon\t39\tCharmander\tno\t      fire\n",
    "2\tWartortle\t44\tSquirtle\tyes\t      water\n",
    "3\tMetapod\t    45\tCaterpie\tno\t      bug"
   ]
  },
  {
   "cell_type": "code",
   "execution_count": 4,
   "id": "837d3681-4c48-45b1-b65b-63177511d859",
   "metadata": {},
   "outputs": [],
   "source": [
    "evo = pd.Series({0:\"Ivysaur\",\n",
    "                 1: \"Charmeloen\",\n",
    "                 2: \"Warterle\",\n",
    "                 3: \"Metapod\"})\n",
    "hp = pd.Series({ 0:45,\n",
    "                 1:39,\n",
    "                 2:44,\n",
    "                 3:45})\n",
    "name = pd.Series({0:\"Bulbasaur\",\n",
    "                 1: \"Charmander\",\n",
    "                 2: \"Squirtle\",\n",
    "                 3: \"Caterpie\"})\n",
    "pokedex = pd.Series({0:\"yes\",\n",
    "                 1: \"no\",\n",
    "                 2: \"yes\",\n",
    "                 3: \"no\"})\n",
    "type = pd.Series({0:\"grass\",\n",
    "                 1: \"fire\",\n",
    "                 2: \"water\",\n",
    "                 3: \"bug\"})\n"
   ]
  },
  {
   "cell_type": "markdown",
   "id": "b8529ad6-f5a7-4517-bb4f-673b6115953a",
   "metadata": {},
   "source": [
    "Step 3. Assign it to a variable called pokemon"
   ]
  },
  {
   "cell_type": "code",
   "execution_count": 5,
   "id": "129b8281-c8ec-4070-83e2-f645210a7c27",
   "metadata": {},
   "outputs": [
    {
     "data": {
      "text/html": [
       "<div>\n",
       "<style scoped>\n",
       "    .dataframe tbody tr th:only-of-type {\n",
       "        vertical-align: middle;\n",
       "    }\n",
       "\n",
       "    .dataframe tbody tr th {\n",
       "        vertical-align: top;\n",
       "    }\n",
       "\n",
       "    .dataframe thead th {\n",
       "        text-align: right;\n",
       "    }\n",
       "</style>\n",
       "<table border=\"1\" class=\"dataframe\">\n",
       "  <thead>\n",
       "    <tr style=\"text-align: right;\">\n",
       "      <th></th>\n",
       "      <th>evolution</th>\n",
       "      <th>hp</th>\n",
       "      <th>name</th>\n",
       "      <th>pokedex</th>\n",
       "      <th>type</th>\n",
       "    </tr>\n",
       "  </thead>\n",
       "  <tbody>\n",
       "    <tr>\n",
       "      <th>0</th>\n",
       "      <td>Ivysaur</td>\n",
       "      <td>45</td>\n",
       "      <td>Bulbasaur</td>\n",
       "      <td>yes</td>\n",
       "      <td>grass</td>\n",
       "    </tr>\n",
       "    <tr>\n",
       "      <th>1</th>\n",
       "      <td>Charmeloen</td>\n",
       "      <td>39</td>\n",
       "      <td>Charmander</td>\n",
       "      <td>no</td>\n",
       "      <td>fire</td>\n",
       "    </tr>\n",
       "    <tr>\n",
       "      <th>2</th>\n",
       "      <td>Warterle</td>\n",
       "      <td>44</td>\n",
       "      <td>Squirtle</td>\n",
       "      <td>yes</td>\n",
       "      <td>water</td>\n",
       "    </tr>\n",
       "    <tr>\n",
       "      <th>3</th>\n",
       "      <td>Metapod</td>\n",
       "      <td>45</td>\n",
       "      <td>Caterpie</td>\n",
       "      <td>no</td>\n",
       "      <td>bug</td>\n",
       "    </tr>\n",
       "  </tbody>\n",
       "</table>\n",
       "</div>"
      ],
      "text/plain": [
       "    evolution  hp        name pokedex   type\n",
       "0     Ivysaur  45   Bulbasaur     yes  grass\n",
       "1  Charmeloen  39  Charmander      no   fire\n",
       "2    Warterle  44    Squirtle     yes  water\n",
       "3     Metapod  45    Caterpie      no    bug"
      ]
     },
     "execution_count": 5,
     "metadata": {},
     "output_type": "execute_result"
    }
   ],
   "source": [
    "pokemon = pd.DataFrame({\"evolution\":evo,\"hp\":hp,\"name\":name,\"pokedex\":pokedex,\"type\":type})\n",
    "pokemon"
   ]
  },
  {
   "cell_type": "markdown",
   "id": "dac6c6ea-d8e6-4b7b-8fa3-79f8815486ed",
   "metadata": {},
   "source": [
    "Step 4. Ops...it seems the DataFrame columns are in alphabetical order. Place the order of the columns as name, type, hp, evolution, pokedex"
   ]
  },
  {
   "cell_type": "code",
   "execution_count": 6,
   "id": "c722bb87-f16f-4a39-acf4-6e2caea6ef6b",
   "metadata": {},
   "outputs": [
    {
     "data": {
      "text/html": [
       "<div>\n",
       "<style scoped>\n",
       "    .dataframe tbody tr th:only-of-type {\n",
       "        vertical-align: middle;\n",
       "    }\n",
       "\n",
       "    .dataframe tbody tr th {\n",
       "        vertical-align: top;\n",
       "    }\n",
       "\n",
       "    .dataframe thead th {\n",
       "        text-align: right;\n",
       "    }\n",
       "</style>\n",
       "<table border=\"1\" class=\"dataframe\">\n",
       "  <thead>\n",
       "    <tr style=\"text-align: right;\">\n",
       "      <th></th>\n",
       "      <th>name</th>\n",
       "      <th>type</th>\n",
       "      <th>hp</th>\n",
       "      <th>evolution</th>\n",
       "      <th>pokedex</th>\n",
       "    </tr>\n",
       "  </thead>\n",
       "  <tbody>\n",
       "    <tr>\n",
       "      <th>0</th>\n",
       "      <td>Bulbasaur</td>\n",
       "      <td>grass</td>\n",
       "      <td>45</td>\n",
       "      <td>Ivysaur</td>\n",
       "      <td>yes</td>\n",
       "    </tr>\n",
       "    <tr>\n",
       "      <th>1</th>\n",
       "      <td>Charmander</td>\n",
       "      <td>fire</td>\n",
       "      <td>39</td>\n",
       "      <td>Charmeloen</td>\n",
       "      <td>no</td>\n",
       "    </tr>\n",
       "    <tr>\n",
       "      <th>2</th>\n",
       "      <td>Squirtle</td>\n",
       "      <td>water</td>\n",
       "      <td>44</td>\n",
       "      <td>Warterle</td>\n",
       "      <td>yes</td>\n",
       "    </tr>\n",
       "    <tr>\n",
       "      <th>3</th>\n",
       "      <td>Caterpie</td>\n",
       "      <td>bug</td>\n",
       "      <td>45</td>\n",
       "      <td>Metapod</td>\n",
       "      <td>no</td>\n",
       "    </tr>\n",
       "  </tbody>\n",
       "</table>\n",
       "</div>"
      ],
      "text/plain": [
       "         name   type  hp   evolution pokedex\n",
       "0   Bulbasaur  grass  45     Ivysaur     yes\n",
       "1  Charmander   fire  39  Charmeloen      no\n",
       "2    Squirtle  water  44    Warterle     yes\n",
       "3    Caterpie    bug  45     Metapod      no"
      ]
     },
     "execution_count": 6,
     "metadata": {},
     "output_type": "execute_result"
    }
   ],
   "source": [
    "pokemon = pd.DataFrame({\"name\":name,\"type\":type,\"hp\":hp,\"evolution\":evo,\"pokedex\":pokedex})\n",
    "pokemon"
   ]
  },
  {
   "cell_type": "markdown",
   "id": "27c957c9-1cd3-45da-92d2-d97c1e8d372c",
   "metadata": {},
   "source": [
    "Step 5. Add another column called place, and insert what you have in mind."
   ]
  },
  {
   "cell_type": "code",
   "execution_count": 7,
   "id": "3bf1dca0-45e8-4154-a597-8decbae25294",
   "metadata": {},
   "outputs": [
    {
     "data": {
      "text/html": [
       "<div>\n",
       "<style scoped>\n",
       "    .dataframe tbody tr th:only-of-type {\n",
       "        vertical-align: middle;\n",
       "    }\n",
       "\n",
       "    .dataframe tbody tr th {\n",
       "        vertical-align: top;\n",
       "    }\n",
       "\n",
       "    .dataframe thead th {\n",
       "        text-align: right;\n",
       "    }\n",
       "</style>\n",
       "<table border=\"1\" class=\"dataframe\">\n",
       "  <thead>\n",
       "    <tr style=\"text-align: right;\">\n",
       "      <th></th>\n",
       "      <th>name</th>\n",
       "      <th>type</th>\n",
       "      <th>hp</th>\n",
       "      <th>evolution</th>\n",
       "      <th>pokedex</th>\n",
       "      <th>place</th>\n",
       "    </tr>\n",
       "  </thead>\n",
       "  <tbody>\n",
       "    <tr>\n",
       "      <th>0</th>\n",
       "      <td>Bulbasaur</td>\n",
       "      <td>grass</td>\n",
       "      <td>45</td>\n",
       "      <td>Ivysaur</td>\n",
       "      <td>yes</td>\n",
       "      <td>nairobi</td>\n",
       "    </tr>\n",
       "    <tr>\n",
       "      <th>1</th>\n",
       "      <td>Charmander</td>\n",
       "      <td>fire</td>\n",
       "      <td>39</td>\n",
       "      <td>Charmeloen</td>\n",
       "      <td>no</td>\n",
       "      <td>mombasa</td>\n",
       "    </tr>\n",
       "    <tr>\n",
       "      <th>2</th>\n",
       "      <td>Squirtle</td>\n",
       "      <td>water</td>\n",
       "      <td>44</td>\n",
       "      <td>Warterle</td>\n",
       "      <td>yes</td>\n",
       "      <td>nakuru</td>\n",
       "    </tr>\n",
       "    <tr>\n",
       "      <th>3</th>\n",
       "      <td>Caterpie</td>\n",
       "      <td>bug</td>\n",
       "      <td>45</td>\n",
       "      <td>Metapod</td>\n",
       "      <td>no</td>\n",
       "      <td>kiabu</td>\n",
       "    </tr>\n",
       "  </tbody>\n",
       "</table>\n",
       "</div>"
      ],
      "text/plain": [
       "         name   type  hp   evolution pokedex    place\n",
       "0   Bulbasaur  grass  45     Ivysaur     yes  nairobi\n",
       "1  Charmander   fire  39  Charmeloen      no  mombasa\n",
       "2    Squirtle  water  44    Warterle     yes   nakuru\n",
       "3    Caterpie    bug  45     Metapod      no    kiabu"
      ]
     },
     "execution_count": 7,
     "metadata": {},
     "output_type": "execute_result"
    }
   ],
   "source": [
    "pokemon[\"place\"] = [\"nairobi\",\"mombasa\",\"nakuru\",\"kiabu\"]\n",
    "pokemon"
   ]
  },
  {
   "cell_type": "markdown",
   "id": "e5bbebed-cbe5-4160-8050-ce356886e38e",
   "metadata": {},
   "source": [
    "Step 6. Present the type of each column"
   ]
  },
  {
   "cell_type": "code",
   "execution_count": 12,
   "id": "99133bdd-744c-40f8-968a-26651b636046",
   "metadata": {},
   "outputs": [
    {
     "data": {
      "text/plain": [
       "name         object\n",
       "type         object\n",
       "hp            int64\n",
       "evolution    object\n",
       "pokedex      object\n",
       "place        object\n",
       "dtype: object"
      ]
     },
     "execution_count": 12,
     "metadata": {},
     "output_type": "execute_result"
    }
   ],
   "source": [
    "pokemon.dtypes"
   ]
  },
  {
   "cell_type": "markdown",
   "id": "b8bdb8d2-92bb-448d-850e-6bf9b0276dbb",
   "metadata": {},
   "source": [
    "BONUS:display the raws with hp >40"
   ]
  },
  {
   "cell_type": "code",
   "execution_count": 18,
   "id": "30ec543f-386a-46f4-a607-228ca3549b06",
   "metadata": {},
   "outputs": [
    {
     "data": {
      "text/html": [
       "<div>\n",
       "<style scoped>\n",
       "    .dataframe tbody tr th:only-of-type {\n",
       "        vertical-align: middle;\n",
       "    }\n",
       "\n",
       "    .dataframe tbody tr th {\n",
       "        vertical-align: top;\n",
       "    }\n",
       "\n",
       "    .dataframe thead th {\n",
       "        text-align: right;\n",
       "    }\n",
       "</style>\n",
       "<table border=\"1\" class=\"dataframe\">\n",
       "  <thead>\n",
       "    <tr style=\"text-align: right;\">\n",
       "      <th></th>\n",
       "      <th>name</th>\n",
       "      <th>type</th>\n",
       "      <th>hp</th>\n",
       "    </tr>\n",
       "  </thead>\n",
       "  <tbody>\n",
       "    <tr>\n",
       "      <th>0</th>\n",
       "      <td>Bulbasaur</td>\n",
       "      <td>grass</td>\n",
       "      <td>45</td>\n",
       "    </tr>\n",
       "    <tr>\n",
       "      <th>2</th>\n",
       "      <td>Squirtle</td>\n",
       "      <td>water</td>\n",
       "      <td>44</td>\n",
       "    </tr>\n",
       "    <tr>\n",
       "      <th>3</th>\n",
       "      <td>Caterpie</td>\n",
       "      <td>bug</td>\n",
       "      <td>45</td>\n",
       "    </tr>\n",
       "  </tbody>\n",
       "</table>\n",
       "</div>"
      ],
      "text/plain": [
       "        name   type  hp\n",
       "0  Bulbasaur  grass  45\n",
       "2   Squirtle  water  44\n",
       "3   Caterpie    bug  45"
      ]
     },
     "execution_count": 18,
     "metadata": {},
     "output_type": "execute_result"
    }
   ],
   "source": [
    "pokemon.loc[ pokemon.hp>40 ,[\"name\",\"type\",\"hp\"]]"
   ]
  },
  {
   "cell_type": "code",
   "execution_count": null,
   "id": "240754fb-a1d7-46bb-a17d-55944458d357",
   "metadata": {},
   "outputs": [],
   "source": []
  }
 ],
 "metadata": {
  "kernelspec": {
   "display_name": "Python 3 (ipykernel)",
   "language": "python",
   "name": "python3"
  },
  "language_info": {
   "codemirror_mode": {
    "name": "ipython",
    "version": 3
   },
   "file_extension": ".py",
   "mimetype": "text/x-python",
   "name": "python",
   "nbconvert_exporter": "python",
   "pygments_lexer": "ipython3",
   "version": "3.12.2"
  }
 },
 "nbformat": 4,
 "nbformat_minor": 5
}
